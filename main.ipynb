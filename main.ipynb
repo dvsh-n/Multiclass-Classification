{
 "cells": [
  {
   "cell_type": "markdown",
   "metadata": {},
   "source": [
    "1\\)\n",
    "\n",
    "Least Squares Cost Function: $$g(\\tilde W)=\\dfrac{1}{P} \\sum_{p=1}^{P}(\\tilde X_{p}^{T} \\tilde W - y_{p})^{2}$$\n",
    "1st Derivative: $$\\nabla g(\\tilde W)=\\dfrac{2}{P} \\sum_{p=1}^{P}\\tilde X_{p}(\\tilde X_{p}^{T} \\tilde W - y_{p})$$\n",
    "2nd Derivative: $$\\nabla^{2} g(\\tilde W)=\\dfrac{2}{P} \\sum_{p=1}^{P}\\tilde X_{p} \\tilde X_{p}^{T}$$"
   ]
  },
  {
   "cell_type": "markdown",
   "metadata": {},
   "source": [
    "2\\)\n",
    "$$\\sigma(t) = \\dfrac{1}{1+e^{-t}}$$\n",
    "$$\\dfrac{d\\sigma(t)}{dt} = \\dfrac{-1}{(1+e^{-t})^2}(-e^{-t})$$\n",
    "$$\\dfrac{d\\sigma(t)}{dt} = \\dfrac{-1}{(1+e^{-t})} \\dfrac{e^{-t}}{(1+e^{-t})}$$\n",
    "$$\\dfrac{d\\sigma(t)}{dt} = \\dfrac{1}{(1+e^{-t})} \\dfrac{1}{(1+e^{t})}$$\n",
    "$$1-\\sigma(t) = 1-\\dfrac{1}{1+e^{-t}} = \\dfrac{(1+e^{-t})-1}{1+e^{-t}} = \\dfrac{1}{1+e^{t}}$$\n",
    "$$\\dfrac{d\\sigma(t)}{dt} = \\sigma(t) (1-\\sigma(t))$$"
   ]
  },
  {
   "cell_type": "markdown",
   "metadata": {},
   "source": [
    "3\\)"
   ]
  },
  {
   "cell_type": "markdown",
   "metadata": {},
   "source": [
    "4\\)"
   ]
  },
  {
   "cell_type": "code",
   "execution_count": 1,
   "metadata": {},
   "outputs": [],
   "source": [
    "from sklearn import datasets\n",
    "from sklearn.preprocessing import StandardScaler\n",
    "iris = datasets.load_iris()\n",
    "X = iris.data[:,0:4]\n",
    "Y = iris.target\n",
    "\n",
    "import numpy as np\n",
    "ones = np.ones(X.shape[0], dtype=float)\n",
    "X = np.column_stack((ones, X))"
   ]
  },
  {
   "cell_type": "code",
   "execution_count": 2,
   "metadata": {},
   "outputs": [],
   "source": [
    "def activation(Z):\n",
    "    act = 1./(1.+np.exp(-np.clip(Z,-250,250)))\n",
    "    return( act )"
   ]
  },
  {
   "cell_type": "code",
   "execution_count": 3,
   "metadata": {},
   "outputs": [],
   "source": [
    "from sklearn.preprocessing import OneHotEncoder\n",
    "\n",
    "def onehot(Y):\n",
    "    onehot_encoder = OneHotEncoder(sparse_output=False)\n",
    "    integer_encoded = Y.reshape(len(Y), 1)\n",
    "    onehot_encoded = onehot_encoder.fit_transform(integer_encoded)\n",
    "    return(onehot_encoded)\n",
    "\n",
    "Y = onehot(Y)"
   ]
  },
  {
   "cell_type": "code",
   "execution_count": 4,
   "metadata": {},
   "outputs": [],
   "source": [
    "def argmax(Z):\n",
    "    maxz = max(Z)\n",
    "    for j in range(len(Z)):\n",
    "        Z[j] = 1.0 if Z[j]>=maxz else 0\n",
    "    return(Z)"
   ]
  },
  {
   "cell_type": "code",
   "execution_count": 5,
   "metadata": {},
   "outputs": [
    {
     "name": "stdout",
     "output_type": "stream",
     "text": [
      "[[ 0.90690058 -0.3575296   0.44896888 -0.53778651  0.43450121]\n",
      " [ 0.45158858 -0.47146839 -0.19963646  0.31870579  0.43882558]\n",
      " [ 0.29829439 -0.3075373  -0.33678169  0.50348168  0.31349399]]\n",
      "[1. 0. 0.]   [1. 0. 0.]\n",
      "[1. 0. 0.]   [1. 0. 0.]\n",
      "[1. 0. 0.]   [1. 0. 0.]\n",
      "[1. 0. 0.]   [1. 0. 0.]\n",
      "[1. 0. 0.]   [1. 0. 0.]\n",
      "[1. 0. 0.]   [1. 0. 0.]\n",
      "[1. 0. 0.]   [1. 0. 0.]\n",
      "[1. 0. 0.]   [1. 0. 0.]\n",
      "[1. 0. 0.]   [1. 0. 0.]\n",
      "[1. 0. 0.]   [1. 0. 0.]\n",
      "[1. 0. 0.]   [1. 0. 0.]\n",
      "[1. 0. 0.]   [1. 0. 0.]\n",
      "[1. 0. 0.]   [1. 0. 0.]\n",
      "[1. 0. 0.]   [1. 0. 0.]\n",
      "[1. 0. 0.]   [1. 0. 0.]\n",
      "[1. 0. 0.]   [1. 0. 0.]\n",
      "[1. 0. 0.]   [1. 0. 0.]\n",
      "[1. 0. 0.]   [1. 0. 0.]\n",
      "[1. 0. 0.]   [1. 0. 0.]\n",
      "[1. 0. 0.]   [1. 0. 0.]\n",
      "[1. 0. 0.]   [1. 0. 0.]\n",
      "[1. 0. 0.]   [1. 0. 0.]\n",
      "[1. 0. 0.]   [1. 0. 0.]\n",
      "[1. 0. 0.]   [1. 0. 0.]\n",
      "[1. 0. 0.]   [1. 0. 0.]\n",
      "[1. 0. 0.]   [1. 0. 0.]\n",
      "[1. 0. 0.]   [1. 0. 0.]\n",
      "[1. 0. 0.]   [1. 0. 0.]\n",
      "[1. 0. 0.]   [1. 0. 0.]\n",
      "[1. 0. 0.]   [1. 0. 0.]\n",
      "[1. 0. 0.]   [1. 0. 0.]\n",
      "[1. 0. 0.]   [1. 0. 0.]\n",
      "[1. 0. 0.]   [1. 0. 0.]\n",
      "[1. 0. 0.]   [1. 0. 0.]\n",
      "[1. 0. 0.]   [1. 0. 0.]\n",
      "[1. 0. 0.]   [1. 0. 0.]\n",
      "[1. 0. 0.]   [1. 0. 0.]\n",
      "[1. 0. 0.]   [1. 0. 0.]\n",
      "[1. 0. 0.]   [1. 0. 0.]\n",
      "[1. 0. 0.]   [1. 0. 0.]\n",
      "[1. 0. 0.]   [1. 0. 0.]\n",
      "[1. 0. 0.]   [1. 0. 0.]\n",
      "[1. 0. 0.]   [1. 0. 0.]\n",
      "[1. 0. 0.]   [1. 0. 0.]\n",
      "[1. 0. 0.]   [1. 0. 0.]\n",
      "[1. 0. 0.]   [1. 0. 0.]\n",
      "[1. 0. 0.]   [1. 0. 0.]\n",
      "[1. 0. 0.]   [1. 0. 0.]\n",
      "[1. 0. 0.]   [1. 0. 0.]\n",
      "[1. 0. 0.]   [1. 0. 0.]\n",
      "[0. 0. 1.]   [0. 1. 0.]\n",
      "[0. 0. 1.]   [0. 1. 0.]\n",
      "[0. 0. 1.]   [0. 1. 0.]\n",
      "[0. 0. 1.]   [0. 1. 0.]\n",
      "[0. 0. 1.]   [0. 1. 0.]\n",
      "[0. 0. 1.]   [0. 1. 0.]\n",
      "[0. 0. 1.]   [0. 1. 0.]\n",
      "[0. 0. 1.]   [0. 1. 0.]\n",
      "[0. 0. 1.]   [0. 1. 0.]\n",
      "[0. 0. 1.]   [0. 1. 0.]\n",
      "[0. 0. 1.]   [0. 1. 0.]\n",
      "[0. 0. 1.]   [0. 1. 0.]\n",
      "[0. 0. 1.]   [0. 1. 0.]\n",
      "[0. 0. 1.]   [0. 1. 0.]\n",
      "[0. 0. 1.]   [0. 1. 0.]\n",
      "[0. 0. 1.]   [0. 1. 0.]\n",
      "[0. 0. 1.]   [0. 1. 0.]\n",
      "[0. 0. 1.]   [0. 1. 0.]\n",
      "[0. 0. 1.]   [0. 1. 0.]\n",
      "[0. 0. 1.]   [0. 1. 0.]\n",
      "[0. 0. 1.]   [0. 1. 0.]\n",
      "[0. 0. 1.]   [0. 1. 0.]\n",
      "[0. 0. 1.]   [0. 1. 0.]\n",
      "[0. 0. 1.]   [0. 1. 0.]\n",
      "[0. 0. 1.]   [0. 1. 0.]\n",
      "[0. 0. 1.]   [0. 1. 0.]\n",
      "[0. 0. 1.]   [0. 1. 0.]\n",
      "[0. 0. 1.]   [0. 1. 0.]\n",
      "[0. 0. 1.]   [0. 1. 0.]\n",
      "[0. 0. 1.]   [0. 1. 0.]\n",
      "[0. 0. 1.]   [0. 1. 0.]\n",
      "[0. 0. 1.]   [0. 1. 0.]\n",
      "[0. 0. 1.]   [0. 1. 0.]\n",
      "[0. 0. 1.]   [0. 1. 0.]\n",
      "[0. 0. 1.]   [0. 1. 0.]\n",
      "[0. 0. 1.]   [0. 1. 0.]\n",
      "[0. 0. 1.]   [0. 1. 0.]\n",
      "[0. 0. 1.]   [0. 1. 0.]\n",
      "[0. 0. 1.]   [0. 1. 0.]\n",
      "[0. 0. 1.]   [0. 1. 0.]\n",
      "[0. 0. 1.]   [0. 1. 0.]\n",
      "[0. 0. 1.]   [0. 1. 0.]\n",
      "[0. 0. 1.]   [0. 1. 0.]\n",
      "[0. 0. 1.]   [0. 1. 0.]\n",
      "[0. 0. 1.]   [0. 1. 0.]\n",
      "[0. 0. 1.]   [0. 1. 0.]\n",
      "[0. 0. 1.]   [0. 1. 0.]\n",
      "[0. 0. 1.]   [0. 1. 0.]\n",
      "[0. 0. 1.]   [0. 1. 0.]\n",
      "[0. 0. 1.]   [0. 1. 0.]\n",
      "[0. 0. 1.]   [0. 0. 1.]\n",
      "[0. 0. 1.]   [0. 0. 1.]\n",
      "[0. 0. 1.]   [0. 0. 1.]\n",
      "[0. 0. 1.]   [0. 0. 1.]\n",
      "[0. 0. 1.]   [0. 0. 1.]\n",
      "[0. 0. 1.]   [0. 0. 1.]\n",
      "[0. 0. 1.]   [0. 0. 1.]\n",
      "[0. 0. 1.]   [0. 0. 1.]\n",
      "[0. 0. 1.]   [0. 0. 1.]\n",
      "[0. 0. 1.]   [0. 0. 1.]\n",
      "[0. 0. 1.]   [0. 0. 1.]\n",
      "[0. 0. 1.]   [0. 0. 1.]\n",
      "[0. 0. 1.]   [0. 0. 1.]\n",
      "[0. 0. 1.]   [0. 0. 1.]\n",
      "[0. 0. 1.]   [0. 0. 1.]\n",
      "[0. 0. 1.]   [0. 0. 1.]\n",
      "[0. 0. 1.]   [0. 0. 1.]\n",
      "[0. 0. 1.]   [0. 0. 1.]\n",
      "[0. 0. 1.]   [0. 0. 1.]\n",
      "[0. 0. 1.]   [0. 0. 1.]\n",
      "[0. 0. 1.]   [0. 0. 1.]\n",
      "[0. 0. 1.]   [0. 0. 1.]\n",
      "[0. 0. 1.]   [0. 0. 1.]\n",
      "[0. 0. 1.]   [0. 0. 1.]\n",
      "[0. 0. 1.]   [0. 0. 1.]\n",
      "[0. 0. 1.]   [0. 0. 1.]\n",
      "[0. 0. 1.]   [0. 0. 1.]\n",
      "[0. 0. 1.]   [0. 0. 1.]\n",
      "[0. 0. 1.]   [0. 0. 1.]\n",
      "[0. 0. 1.]   [0. 0. 1.]\n",
      "[0. 0. 1.]   [0. 0. 1.]\n",
      "[0. 0. 1.]   [0. 0. 1.]\n",
      "[0. 0. 1.]   [0. 0. 1.]\n",
      "[0. 0. 1.]   [0. 0. 1.]\n",
      "[0. 0. 1.]   [0. 0. 1.]\n",
      "[0. 0. 1.]   [0. 0. 1.]\n",
      "[0. 0. 1.]   [0. 0. 1.]\n",
      "[0. 0. 1.]   [0. 0. 1.]\n",
      "[0. 0. 1.]   [0. 0. 1.]\n",
      "[0. 0. 1.]   [0. 0. 1.]\n",
      "[0. 0. 1.]   [0. 0. 1.]\n",
      "[0. 0. 1.]   [0. 0. 1.]\n",
      "[0. 0. 1.]   [0. 0. 1.]\n",
      "[0. 0. 1.]   [0. 0. 1.]\n",
      "[0. 0. 1.]   [0. 0. 1.]\n",
      "[0. 0. 1.]   [0. 0. 1.]\n",
      "[0. 0. 1.]   [0. 0. 1.]\n",
      "[0. 0. 1.]   [0. 0. 1.]\n",
      "[0. 0. 1.]   [0. 0. 1.]\n",
      "[0. 0. 1.]   [0. 0. 1.]\n"
     ]
    },
    {
     "data": {
      "image/png": "[encoded data removed]",
      "text/plain": [
       "<Figure size 640x480 with 1 Axes>"
      ]
     },
     "metadata": {},
     "output_type": "display_data"
    }
   ],
   "source": [
    "import matplotlib.pyplot as plt\n",
    "\n",
    "def crossentropy_loss(Y, Y_pred):\n",
    "    e = 1e-15 # For preventing log(0) error\n",
    "    loss = -Y*np.log(Y_pred)-(1+Y)*np.log(1-Y_pred)\n",
    "    return loss\n",
    "\n",
    "def perceptron_sgd(X, Y, a, epochs=100):\n",
    "    errors = []\n",
    "    total_error = 0\n",
    "    error = [0,0,0]\n",
    "\n",
    "    W = np.random.rand(Y.shape[1], X.shape[1]) #3x5\n",
    "\n",
    "    for t in range(epochs):\n",
    "        total_error = 0\n",
    "        for i,x in enumerate(X):\n",
    "            for j in range(Y.shape[1]):\n",
    "                Y_pred = np.dot(x.T, W[j])\n",
    "                Y_pred = activation(Y_pred)\n",
    "                error[j] = crossentropy_loss(Y[i,j], Y_pred)\n",
    "                dw = -x*(Y[i,j]-Y_pred)\n",
    "                W[j] -= a*dw\n",
    "                total_error += error[j]\n",
    "        errors.append(total_error)\n",
    "    return W, errors\n",
    "\n",
    "W, errors = perceptron_sgd(X, Y, 5e-4, epochs=20)\n",
    "print(W)\n",
    "\n",
    "Y_pred = np.dot(X, W.T)\n",
    "for i, y_pred in enumerate(Y_pred):\n",
    "    Y_pred[i] = argmax(y_pred)\n",
    "    print(Y_pred[i],' ', Y[i])\n",
    "\n",
    "plt.title(\"Error vs Epoch\")\n",
    "plt.plot(range(len(errors)), errors)\n",
    "plt.show()"
   ]
  },
  {
   "cell_type": "markdown",
   "metadata": {},
   "source": [
    "5\\)"
   ]
  },
  {
   "cell_type": "code",
   "execution_count": 6,
   "metadata": {},
   "outputs": [
    {
     "name": "stdout",
     "output_type": "stream",
     "text": [
      "Accuracy:  0.9733333333333334\n"
     ]
    },
    {
     "name": "stderr",
     "output_type": "stream",
     "text": [
      "c:\\Users\\deves\\AppData\\Local\\Programs\\Python\\Python310\\lib\\site-packages\\sklearn\\linear_model\\_logistic.py:460: ConvergenceWarning: lbfgs failed to converge (status=1):\n",
      "STOP: TOTAL NO. of ITERATIONS REACHED LIMIT.\n",
      "\n",
      "Increase the number of iterations (max_iter) or scale the data as shown in:\n",
      "    https://scikit-learn.org/stable/modules/preprocessing.html\n",
      "Please also refer to the documentation for alternative solver options:\n",
      "    https://scikit-learn.org/stable/modules/linear_model.html#logistic-regression\n",
      "  n_iter_i = _check_optimize_result(\n"
     ]
    }
   ],
   "source": [
    "X = iris.data[:,0:4]\n",
    "Y = iris.target\n",
    "ones = np.ones(X.shape[0], dtype=float)\n",
    "X = np.column_stack((ones, X))\n",
    "\n",
    "from sklearn.linear_model import LogisticRegression\n",
    "Reg = LogisticRegression()\n",
    "Reg.fit(X, Y)\n",
    "res = Reg.predict(X)\n",
    "\n",
    "from sklearn.metrics import accuracy_score\n",
    "print(\"Accuracy: \", accuracy_score(Y, res))\n"
   ]
  }
 ],
 "metadata": {
  "kernelspec": {
   "display_name": "Python 3",
   "language": "python",
   "name": "python3"
  },
  "language_info": {
   "codemirror_mode": {
    "name": "ipython",
    "version": 3
   },
   "file_extension": ".py",
   "mimetype": "text/x-python",
   "name": "python",
   "nbconvert_exporter": "python",
   "pygments_lexer": "ipython3",
   "version": "3.10.6"
  },
  "orig_nbformat": 4
 },
 "nbformat": 4,
 "nbformat_minor": 2
}
