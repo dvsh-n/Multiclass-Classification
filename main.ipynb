{
 "cells": [
  {
   "cell_type": "markdown",
   "metadata": {},
   "source": [
    "1\\)\n",
    "\n",
    "Least Squares Cost Function: $$g(\\tilde W)=\\dfrac{1}{P} \\sum_{p=1}^{P}(\\tilde X_{p}^{T} \\tilde W - y_{p})^{2}$$\n",
    "1st Derivative: $$\\nabla g(\\tilde W)=\\dfrac{2}{P} \\sum_{p=1}^{P}\\tilde X_{p}(\\tilde X_{p}^{T} \\tilde W - y_{p})$$\n",
    "2nd Derivative: $$\\nabla^{2} g(\\tilde W)=\\dfrac{2}{P} \\sum_{p=1}^{P}\\tilde X_{p} \\tilde X_{p}^{T}$$"
   ]
  },
  {
   "cell_type": "markdown",
   "metadata": {},
   "source": [
    "2\\)\n",
    "$$\\sigma(t) = \\dfrac{1}{1+e^{-t}}$$\n",
    "$$\\dfrac{d\\sigma(t)}{dt} = \\dfrac{-1}{(1+e^{-t})^2}(-e^{-t})$$\n",
    "$$\\dfrac{d\\sigma(t)}{dt} = \\dfrac{-1}{(1+e^{-t})} \\dfrac{e^{-t}}{(1+e^{-t})}$$\n",
    "$$\\dfrac{d\\sigma(t)}{dt} = \\dfrac{1}{(1+e^{-t})} \\dfrac{1}{(1+e^{t})}$$\n",
    "$$1-\\sigma(t) = 1-\\dfrac{1}{1+e^{-t}} = \\dfrac{(1+e^{-t})-1}{1+e^{-t}} = \\dfrac{1}{1+e^{t}}$$\n",
    "$$\\dfrac{d\\sigma(t)}{dt} = \\sigma(t) (1-\\sigma(t))$$"
   ]
  },
  {
   "cell_type": "code",
   "execution_count": null,
   "metadata": {},
   "outputs": [],
   "source": []
  }
 ],
 "metadata": {
  "language_info": {
   "name": "python"
  },
  "orig_nbformat": 4
 },
 "nbformat": 4,
 "nbformat_minor": 2
}
