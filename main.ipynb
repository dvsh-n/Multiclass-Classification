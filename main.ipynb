{
 "cells": [
  {
   "cell_type": "markdown",
   "metadata": {},
   "source": [
    "1\\)\n",
    "\n",
    "Least Squares Cost Function: $$g(\\tilde W)=\\dfrac{1}{P} \\sum_{p=1}^{P}(\\tilde X_{p}^{T} \\tilde W - y_{p})^{2}$$\n",
    "1st Derivative: $$\\nabla g(\\tilde W)=\\dfrac{2}{P} \\sum_{p=1}^{P}\\tilde X_{p}(\\tilde X_{p}^{T} \\tilde W - y_{p})$$\n",
    "2nd Derivative: $$\\nabla^{2} g(\\tilde W)=\\dfrac{2}{P} \\sum_{p=1}^{P}\\tilde X_{p} \\tilde X_{p}^{T}$$"
   ]
  },
  {
   "cell_type": "markdown",
   "metadata": {},
   "source": [
    "2\\)\n",
    "$$\\sigma(t) = \\dfrac{1}{1+e^{-t}}$$\n",
    "$$\\dfrac{d\\sigma(t)}{dt} = \\dfrac{-1}{(1+e^{-t})^2}(-e^{-t})$$\n",
    "$$\\dfrac{d\\sigma(t)}{dt} = \\dfrac{-1}{(1+e^{-t})} \\dfrac{e^{-t}}{(1+e^{-t})}$$\n",
    "$$\\dfrac{d\\sigma(t)}{dt} = \\dfrac{1}{(1+e^{-t})} \\dfrac{1}{(1+e^{t})}$$\n",
    "$$1-\\sigma(t) = 1-\\dfrac{1}{1+e^{-t}} = \\dfrac{(1+e^{-t})-1}{1+e^{-t}} = \\dfrac{1}{1+e^{t}}$$\n",
    "$$\\dfrac{d\\sigma(t)}{dt} = \\sigma(t) (1-\\sigma(t))$$"
   ]
  },
  {
   "cell_type": "markdown",
   "metadata": {},
   "source": [
    "3\\)"
   ]
  },
  {
   "cell_type": "markdown",
   "metadata": {},
   "source": [
    "4\\)"
   ]
  },
  {
   "cell_type": "code",
   "execution_count": 1,
   "metadata": {},
   "outputs": [],
   "source": [
    "from sklearn import datasets\n",
    "from sklearn.preprocessing import StandardScaler\n",
    "iris = datasets.load_iris()\n",
    "X = iris.data[:,0:4]\n",
    "y = iris.target\n",
    "\n",
    "import numpy as np\n",
    "ones = np.ones(X.shape[0], dtype=float)\n",
    "stdsc = StandardScaler()\n",
    "X_std = stdsc.fit_transform(X)\n",
    "X_std = np.column_stack((ones, X_std))"
   ]
  },
  {
   "cell_type": "code",
   "execution_count": 2,
   "metadata": {},
   "outputs": [],
   "source": [
    "def activation(Z):\n",
    "    act = np.ones(len(Z),float)\n",
    "    for i,z in enumerate(Z):\n",
    "        act[i] = 1./(1.+np.exp(-np.clip(z,-250,250)))\n",
    "    return( act )"
   ]
  },
  {
   "cell_type": "code",
   "execution_count": 3,
   "metadata": {},
   "outputs": [],
   "source": [
    "from sklearn.preprocessing import OneHotEncoder\n",
    "\n",
    "def onehot(y):\n",
    "    onehot_encoder = OneHotEncoder(sparse_output=False)\n",
    "    integer_encoded = y.reshape(len(y), 1)\n",
    "    onehot_encoded = onehot_encoder.fit_transform(integer_encoded)\n",
    "    return(onehot_encoded)\n",
    "\n",
    "y = onehot(y)"
   ]
  },
  {
   "cell_type": "code",
   "execution_count": 4,
   "metadata": {},
   "outputs": [],
   "source": [
    "def argmax(Z):\n",
    "    maxz = max(Z)\n",
    "    for j in range(len(Z)):\n",
    "        Z[j] = 1.0 if Z[j]>=maxz else 0\n",
    "    return(Z)"
   ]
  },
  {
   "cell_type": "code",
   "execution_count": 10,
   "metadata": {},
   "outputs": [
    {
     "name": "stdout",
     "output_type": "stream",
     "text": [
      "(105, 5)\n",
      "(105, 3)\n"
     ]
    }
   ],
   "source": [
    "from sklearn.model_selection import train_test_split\n",
    "X_train, X_test, Y_train, Y_test = train_test_split(X_std, y, test_size=0.3, random_state=0)\n",
    "\n",
    "print(X_train.shape)\n",
    "print(Y_train.shape)"
   ]
  },
  {
   "cell_type": "code",
   "execution_count": null,
   "metadata": {},
   "outputs": [],
   "source": [
    "import matplotlib.pyplot as plt\n",
    "from sklearn.metrics import accuracy_score\n",
    "\n",
    "def multiclass(X, Y, a, epochs=100, tol = 1e-10,  plot = True, log = True):\n",
    "    t=0\n",
    "    errors = []\n",
    "    total_error = 0\n",
    "    last_total_error = 100\n",
    "\n",
    "    W = np.random.rand(X.shape[1],Y.shape[1]) #5x3\n",
    "\n",
    "    while(t<epochs and abs(total_error-last_total_error)>tol):\n",
    "        # Forward Prop\n",
    "        Z = \n",
    "\n",
    "    if plot:\n",
    "        plt.title(\"Error vs Epoch\")\n",
    "        plt.plot(range(len(errors)), errors)\n",
    "        plt.show()\n",
    "\n",
    "    print(\"Training Accuracy: \", accuracy_score(Y, Yq))\n",
    "    misclassifications = np.sum([1 if i < 0 else 0 for i in (Y*Yq)])\n",
    "    print(\"Misclassifications: \", misclassifications)\n",
    "    print('\\n')\n",
    "\n",
    "    return W"
   ]
  }
 ],
 "metadata": {
  "kernelspec": {
   "display_name": "Python 3",
   "language": "python",
   "name": "python3"
  },
  "language_info": {
   "codemirror_mode": {
    "name": "ipython",
    "version": 3
   },
   "file_extension": ".py",
   "mimetype": "text/x-python",
   "name": "python",
   "nbconvert_exporter": "python",
   "pygments_lexer": "ipython3",
   "version": "3.10.6"
  },
  "orig_nbformat": 4
 },
 "nbformat": 4,
 "nbformat_minor": 2
}
